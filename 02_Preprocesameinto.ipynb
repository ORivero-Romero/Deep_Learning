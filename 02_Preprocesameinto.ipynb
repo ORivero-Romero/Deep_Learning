{
  "nbformat": 4,
  "nbformat_minor": 0,
  "metadata": {
    "colab": {
      "provenance": [],
      "authorship_tag": "ABX9TyNi9RQcGg9Dfy9KAxFQo+vD",
      "include_colab_link": true
    },
    "kernelspec": {
      "name": "python3",
      "display_name": "Python 3"
    },
    "language_info": {
      "name": "python"
    }
  },
  "cells": [
    {
      "cell_type": "markdown",
      "metadata": {
        "id": "view-in-github",
        "colab_type": "text"
      },
      "source": [
        "<a href=\"https://colab.research.google.com/github/ORivero-Romero/Deep_Learning/blob/main/02_Preprocesameinto.ipynb\" target=\"_parent\"><img src=\"https://colab.research.google.com/assets/colab-badge.svg\" alt=\"Open In Colab\"/></a>"
      ]
    },
    {
      "cell_type": "code",
      "execution_count": null,
      "metadata": {
        "id": "7LsxX6wBJ0Gn"
      },
      "outputs": [],
      "source": [
        "# Install kaggle library\n",
        "!pip install kaggle"
      ]
    },
    {
      "cell_type": "code",
      "source": [
        "# Upload kaggle credential\n",
        "from google.colab import files\n",
        "\n",
        "uploaded = files.upload()"
      ],
      "metadata": {
        "id": "jvBQVH-_KR2a"
      },
      "execution_count": null,
      "outputs": []
    },
    {
      "cell_type": "code",
      "source": [
        "# Prepare kaggle environment\n",
        "!mkdir -p ~/.kaggle\n",
        "!mv kaggle.json ~/.kaggle/\n",
        "!chmod 600 ~/.kaggle/kaggle.json"
      ],
      "metadata": {
        "id": "2gNTBTZrKXDz"
      },
      "execution_count": null,
      "outputs": []
    },
    {
      "cell_type": "code",
      "source": [
        "# Download dataset\n",
        "!kaggle datasets download -d kaustubhb999/tomatoleaf"
      ],
      "metadata": {
        "id": "DIWlbpS9Kb6f"
      },
      "execution_count": null,
      "outputs": []
    },
    {
      "cell_type": "code",
      "source": [
        "!unzip tomatoleaf.zip"
      ],
      "metadata": {
        "id": "J2Q6m9gKKeCa"
      },
      "execution_count": null,
      "outputs": []
    },
    {
      "cell_type": "code",
      "source": [
        "from tensorflow.keras.preprocessing.image import ImageDataGenerator\n",
        "\n",
        "# Crear un generador para preprocesar las imágenes\n",
        "datagen = ImageDataGenerator(rescale=1./255)  # Normalizar los valores a [0, 1]\n",
        "\n",
        "# Ruta de los datos\n",
        "train_dir = \"/content/tomato/train\"\n",
        "val_dir = \"/content/tomato/val\"\n",
        "\n",
        "# Crear generadores para entrenamiento y validación\n",
        "train_generator = datagen.flow_from_directory(\n",
        "    train_dir,\n",
        "    target_size=(150, 150),  # Redimensionar imágenes a 150x150\n",
        "    batch_size=32,\n",
        "    class_mode='categorical'  # Si las clases son múltiples\n",
        ")\n",
        "\n",
        "val_generator = datagen.flow_from_directory(\n",
        "    val_dir,\n",
        "    target_size=(150, 150),\n",
        "    batch_size=32,\n",
        "    class_mode='categorical'\n",
        ")\n"
      ],
      "metadata": {
        "id": "V84bmYwzNMsi"
      },
      "execution_count": null,
      "outputs": []
    },
    {
      "cell_type": "code",
      "source": [
        "augmented_datagen = ImageDataGenerator(\n",
        "    rescale=1./255,\n",
        "    rotation_range=40,\n",
        "    width_shift_range=0.2,\n",
        "    height_shift_range=0.2,\n",
        "    shear_range=0.2,\n",
        "    zoom_range=0.2,\n",
        "    horizontal_flip=True,\n",
        "    fill_mode='nearest'  # Completar espacios vacíos con bordes o reflejos\n",
        ")\n",
        "\n",
        "train_generator = augmented_datagen.flow_from_directory(\n",
        "    train_dir,\n",
        "    target_size=(150, 150),\n",
        "    batch_size=32,\n",
        "    class_mode='categorical'\n",
        ")\n",
        "\n",
        "# Nota: No es común aplicar aumentación a datos de validación\n",
        "val_generator = ImageDataGenerator(rescale=1./255).flow_from_directory(\n",
        "    val_dir,\n",
        "    target_size=(150, 150),\n",
        "    batch_size=32,\n",
        "    class_mode='categorical'\n",
        ")\n"
      ],
      "metadata": {
        "id": "3dC22VcBNdSI"
      },
      "execution_count": null,
      "outputs": []
    },
    {
      "cell_type": "code",
      "source": [
        "from sklearn.preprocessing import LabelEncoder\n",
        "from tensorflow.keras.utils import to_categorical\n",
        "\n",
        "# Extraer etiquetas generadas por los generadores\n",
        "train_labels = train_generator.classes  # Etiquetas de entrenamiento\n",
        "val_labels = val_generator.classes  # Etiquetas de validación\n",
        "\n",
        "# Mapear las clases a índices para saber su orden\n",
        "class_indices = train_generator.class_indices\n",
        "index_to_class = {v: k for k, v in class_indices.items()}  # De índice a clase\n",
        "\n",
        "# Codificar etiquetas en one-hot (opcional, ya que flow_from_directory las usa automáticamente)\n",
        "train_labels_onehot = to_categorical(train_labels)\n",
        "val_labels_onehot = to_categorical(val_labels)\n",
        "\n",
        "# Verificar resultados\n",
        "print(f\"Etiquetas de entrenamiento (numéricas): {train_labels[:5]}\")\n",
        "print(f\"Etiquetas de entrenamiento (one-hot):\\n{train_labels_onehot[:5]}\")\n",
        "print(f\"Índice a clase: {index_to_class}\")\n",
        "\n",
        "\n"
      ],
      "metadata": {
        "id": "2fTG9fexOOyE"
      },
      "execution_count": null,
      "outputs": []
    }
  ]
}